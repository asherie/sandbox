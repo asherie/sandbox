{
 "cells": [
  {
   "cell_type": "markdown",
   "metadata": {},
   "source": [
    "# Fermi Integral: Numerical Evualtions"
   ]
  },
  {
   "cell_type": "markdown",
   "metadata": {},
   "source": [
    "Evaluation of Fermi integral to find fraction of states above Fermi energy, which is given by user. Use trapezoidal rule for inegration. "
   ]
  },
  {
   "cell_type": "code",
   "execution_count": 32,
   "metadata": {
    "collapsed": false
   },
   "outputs": [
    {
     "name": "stdout",
     "output_type": "stream",
     "text": [
      "Enter Fermi Energy (in eV): 7.00\n",
      "Temperature (in Kelvin): 1000\n",
      "\n",
      "Reduced Fermi energy is 81.2317\n",
      "\n",
      "--- 0.3237040042877197 seconds ---\n",
      "\n",
      "Fraction of conduction electrons with E > E_fermi is 0.01289\n",
      "\n"
     ]
    }
   ],
   "source": [
    "import numpy as np\n",
    "import csv\n",
    "import time\n",
    "\n",
    "boltzmann = 8.61733*(10**(-5)) #in eV/K\n",
    "upper = 3  # multiple of Fermi energy for upper limit of integration\n",
    "steps = 100000\n",
    "\n",
    "\n",
    "def density(energy, fermi):\n",
    "    return energy**(0.5)/(1.0 + np.exp(energy-fermi))\n",
    "\n",
    "def trapezoidal(f, a, b, n):\n",
    "    h = (b - a)/n\n",
    "    s = 0.0\n",
    "    s += f(a)/2.0\n",
    "    for i in range (1, n):\n",
    "        s += f(a + i*h)\n",
    "    s += f(b)/2.0\n",
    "    return s*h\n",
    "\n",
    "# Collect inputs\n",
    "fermi_energy = float(input(\"Enter Fermi Energy (in eV): \"))\n",
    "temperature = float(input(\"Temperature (in Kelvin): \"))\n",
    "red_fermi_energy = fermi_energy/(boltzmann*temperature)\n",
    "final_energy = upper*red_fermi_energy\n",
    "print(\"\\nReduced Fermi energy is %.4f\\n\" % red_fermi_energy)\n",
    "\n",
    "start_time = time.time()\n",
    "total = trapezoidal(lambda x: density(x,red_fermi_energy),0, final_energy, steps)\n",
    "conduct = trapezoidal(lambda x: density(x,red_fermi_energy),red_fermi_energy, final_energy, steps)\n",
    "frac = conduct/total\n",
    "print (\"--- %s seconds ---\" %(time.time()-start_time))\n",
    "\n",
    "print(\"\\nFraction of conduction electrons with E > E_fermi is %.5f\\n\" % frac)\n"
   ]
  },
  {
   "cell_type": "code",
   "execution_count": null,
   "metadata": {
    "collapsed": false
   },
   "outputs": [],
   "source": [
    "\n",
    "    "
   ]
  },
  {
   "cell_type": "code",
   "execution_count": null,
   "metadata": {
    "collapsed": false
   },
   "outputs": [],
   "source": []
  },
  {
   "cell_type": "code",
   "execution_count": null,
   "metadata": {
    "collapsed": true
   },
   "outputs": [],
   "source": []
  }
 ],
 "metadata": {
  "kernelspec": {
   "display_name": "Python 3",
   "language": "python",
   "name": "python3"
  },
  "language_info": {
   "codemirror_mode": {
    "name": "ipython",
    "version": 3
   },
   "file_extension": ".py",
   "mimetype": "text/x-python",
   "name": "python",
   "nbconvert_exporter": "python",
   "pygments_lexer": "ipython3",
   "version": "3.5.1"
  }
 },
 "nbformat": 4,
 "nbformat_minor": 0
}
